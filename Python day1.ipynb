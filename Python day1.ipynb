{
 "cells": [
  {
   "cell_type": "markdown",
   "id": "110b8d1f",
   "metadata": {},
   "source": [
    "# Introduction to Python"
   ]
  },
  {
   "cell_type": "code",
   "execution_count": 1,
   "id": "46b9e708",
   "metadata": {},
   "outputs": [
    {
     "name": "stdout",
     "output_type": "stream",
     "text": [
      "Hello World\n"
     ]
    }
   ],
   "source": [
    "# Write a python program to print 'Hello World'.\n",
    "\n",
    "print(\"Hello World\")"
   ]
  },
  {
   "cell_type": "code",
   "execution_count": 2,
   "id": "5b5b70f5",
   "metadata": {},
   "outputs": [
    {
     "name": "stdout",
     "output_type": "stream",
     "text": [
      "Enter first number: 7\n",
      "Enter second number: 6\n",
      "The sum of 7 and 6 is 13.\n"
     ]
    }
   ],
   "source": [
    "# Calculate the sum of two numbers entered by the user.\n",
    "\n",
    "num1 = input(\"Enter first number: \")\n",
    "num2 = input(\"Enter second number: \")\n",
    "\n",
    "sum = int(num1) + int(num2)\n",
    "\n",
    "print(f\"The sum of {num1} and {num2} is {sum}.\")"
   ]
  },
  {
   "cell_type": "code",
   "execution_count": 3,
   "id": "b6279667",
   "metadata": {},
   "outputs": [
    {
     "name": "stdout",
     "output_type": "stream",
     "text": [
      "Enter the temperature in Celsius: 45\n",
      "45.0 Celsius is equal to 113.0 Fahrenheit.\n",
      "45.00 Celsius is equal to 113.00 Fahrenheit\n"
     ]
    }
   ],
   "source": [
    "# Convert temperature from Celcius to Fahrenheit.\n",
    "\n",
    "Celsius = float(input(\"Enter the temperature in Celsius: \"))\n",
    "\n",
    "Fahrenheit = (Celsius*9/5) + 32\n",
    "\n",
    "print(f\"{Celsius} Celsius is equal to {Fahrenheit} Fahrenheit.\")\n",
    "# or\n",
    "print(\"{0:.2f} Celsius is equal to {1:.2f} Fahrenheit\".format(Celsius, Fahrenheit))\n"
   ]
  },
  {
   "cell_type": "code",
   "execution_count": 4,
   "id": "44b0dddf",
   "metadata": {},
   "outputs": [
    {
     "name": "stdout",
     "output_type": "stream",
     "text": [
      "Enter the length: 12\n",
      "Enter the width: 50\n",
      "The perimeter and area of rectangle is 124 and 600.\n"
     ]
    }
   ],
   "source": [
    "# Write a Python program to calculate the perimeter and area of a rectangle given its length and width.\n",
    "\n",
    "length = int(input(\"Enter the length: \"))\n",
    "width = int(input(\"Enter the width: \"))\n",
    "\n",
    "area = length * width\n",
    "perimeter = 2 * (length + width) \n",
    "print(f\"The perimeter and area of rectangle is {perimeter} and {area}.\")"
   ]
  },
  {
   "cell_type": "code",
   "execution_count": 5,
   "id": "5b868b28",
   "metadata": {},
   "outputs": [
    {
     "name": "stdout",
     "output_type": "stream",
     "text": [
      "Enter the number: 123\n",
      "123 is odd.\n"
     ]
    }
   ],
   "source": [
    "# Write a program to check if the number is even or odd.\n",
    "\n",
    "num = int(input(\"Enter the number: \"))\n",
    "\n",
    "if num%2==0:\n",
    "    print(f\"{num} is even.\")\n",
    "else:\n",
    "    print(f\"{num} is odd.\")\n",
    "    "
   ]
  },
  {
   "cell_type": "code",
   "execution_count": 6,
   "id": "f16eb9b4",
   "metadata": {},
   "outputs": [
    {
     "name": "stdout",
     "output_type": "stream",
     "text": [
      "Enter your name: Gitanjali\n",
      "Enter your age: 22\n",
      "Hello, Gitanjali! You are 22 years old.\n"
     ]
    }
   ],
   "source": [
    "# Create a program that takes a user's name and age as input and prints a greeting message.\n",
    "\n",
    "name = input(\"Enter your name: \")\n",
    "age = input(\"Enter your age: \")\n",
    "\n",
    "message = \"Hello, \" + name + \"!\" + \" You are \" + str(age) + \" years old.\"\n",
    "\n",
    "print(message)"
   ]
  },
  {
   "cell_type": "code",
   "execution_count": 7,
   "id": "05c68142",
   "metadata": {},
   "outputs": [
    {
     "name": "stdout",
     "output_type": "stream",
     "text": [
      "Enter a string: radar\n",
      "radar is a palindrome\n"
     ]
    }
   ],
   "source": [
    "# Implement a program to check if a given string is a palindrome.\n",
    "\n",
    "string = input(\"Enter a string: \")\n",
    "\n",
    "reverse_string = string[::-1]\n",
    "\n",
    "if string == reverse_string:\n",
    "    print(\"{0} is a palindrome\".format(string))\n",
    "else:\n",
    "    print(\"{0} is a palindrome\".format(string))"
   ]
  },
  {
   "cell_type": "code",
   "execution_count": 8,
   "id": "7c1f5a2d",
   "metadata": {},
   "outputs": [
    {
     "name": "stdout",
     "output_type": "stream",
     "text": [
      "Enter a list of numbers separated by space: 10 12 15 13 26 25 42 36 33 78 84 91\n",
      "The maximum value in the list is 91 and the minimum value in the list is 10.\n"
     ]
    }
   ],
   "source": [
    "# Given a list of numbers, find the maximum and minimum values.\n",
    "\n",
    "# Take input from the user\n",
    "num_list = input(\"Enter a list of numbers separated by space: \")\n",
    "\n",
    "# Convert the input string to a list of numbers\n",
    "num_list = [int(num) for num in num_list.split()]\n",
    "\n",
    "# Find the maximum and minimum values in the list.\n",
    "max_num = max(num_list)\n",
    "min_num = min(num_list)\n",
    "\n",
    "print(f\"The maximum value in the list is {max_num} and the minimum value in the list is {min_num}.\")\n"
   ]
  },
  {
   "cell_type": "code",
   "execution_count": 9,
   "id": "ff856b18",
   "metadata": {},
   "outputs": [
    {
     "name": "stdout",
     "output_type": "stream",
     "text": [
      "Enter the principal amount: 5000\n",
      "Enter the interest rate: 8.5\n",
      "Enter the number of years: 12\n",
      "The compound interest is 8308.43\n"
     ]
    }
   ],
   "source": [
    "# Calculate the compound interest for a given principal amount, interest rate, and time period.\n",
    "\n",
    "principal = float(input(\"Enter the principal amount: \"))\n",
    "rate = float(input(\"Enter the interest rate: \"))\n",
    "time = float(input(\"Enter the number of years: \"))\n",
    "\n",
    "amount = principal * (1 + rate / 100) ** time\n",
    "ci = amount - principal\n",
    "\n",
    "print(\"The compound interest is {0:.2f}\".format(ci))\n"
   ]
  },
  {
   "cell_type": "code",
   "execution_count": 10,
   "id": "8c1f937b",
   "metadata": {},
   "outputs": [
    {
     "name": "stdout",
     "output_type": "stream",
     "text": [
      "Enter days: 32\n",
      "Years:  0.08767123287671233\n",
      "Weeks:  4.571428571428571\n",
      "Days:  32.0\n"
     ]
    }
   ],
   "source": [
    "# Write a program that converts a given number of days into years, weeks and days.\n",
    "\n",
    "days = int(input(\"Enter days: \"))\n",
    "\n",
    "years = days / 365\n",
    "weeks = (days % 365) / 7\n",
    "days = ((years*365) + (weeks *7)) - days\n",
    "\n",
    "print(\"Years: \", years)\n",
    "print(\"Weeks: \", weeks)\n",
    "print(\"Days: \", days)"
   ]
  },
  {
   "cell_type": "code",
   "execution_count": 22,
   "id": "fd94dd1b",
   "metadata": {},
   "outputs": [
    {
     "name": "stdout",
     "output_type": "stream",
     "text": [
      "Input a number: 15\n",
      "Sum of the first 15 positive integers: 120.0\n"
     ]
    }
   ],
   "source": [
    "# Given a list of integers, find the sum of all positive numbers.\n",
    "\n",
    "n = int(input(\"Input a number: \"))\n",
    "\n",
    "# Calculate the sum of the first 'n' positive integers using the formula.\n",
    "sum_num = (n * (n + 1)) / 2\n",
    "\n",
    "# Print the result, indicating the sum of the first 'n' positive integers.\n",
    "print(\"Sum of the first\", n, \"positive integers:\", sum_num)"
   ]
  },
  {
   "cell_type": "code",
   "execution_count": 18,
   "id": "8f2c3f0d",
   "metadata": {},
   "outputs": [
    {
     "name": "stdout",
     "output_type": "stream",
     "text": [
      "Enter a sentence: The quick brown fox jumps over the lazy dog\n",
      "The number of words in the sentence is: 9\n"
     ]
    }
   ],
   "source": [
    "# Create a program that takes a sentence as input and counts the number of words in it.\n",
    "\n",
    "sentence = input(\"Enter a sentence: \") # Get the user input\n",
    "# Split the sentence into a list of words\n",
    "words = sentence.split() \n",
    "word_count = len(words)\n",
    "# Print the result\n",
    "print(\"The number of words in the sentence is:\", word_count) "
   ]
  },
  {
   "cell_type": "code",
   "execution_count": 19,
   "id": "0637a6c7",
   "metadata": {},
   "outputs": [
    {
     "name": "stdout",
     "output_type": "stream",
     "text": [
      "Before swapping: \n",
      "Value of x :  5  and y :  7\n",
      "After swapping: \n",
      "Value of x :  7  and y :  5\n"
     ]
    }
   ],
   "source": [
    "# Implement a program that swaps the values of two variables\n",
    "\n",
    "x = 5\n",
    "y = 7\n",
    " \n",
    "print (\"Before swapping: \")\n",
    "print(\"Value of x : \", x, \" and y : \", y)\n",
    " \n",
    "# code to swap 'x' and 'y'\n",
    "x, y = y, x\n",
    " \n",
    "print (\"After swapping: \")\n",
    "print(\"Value of x : \", x, \" and y : \", y)"
   ]
  }
 ],
 "metadata": {
  "kernelspec": {
   "display_name": "Python 3 (ipykernel)",
   "language": "python",
   "name": "python3"
  },
  "language_info": {
   "codemirror_mode": {
    "name": "ipython",
    "version": 3
   },
   "file_extension": ".py",
   "mimetype": "text/x-python",
   "name": "python",
   "nbconvert_exporter": "python",
   "pygments_lexer": "ipython3",
   "version": "3.9.13"
  }
 },
 "nbformat": 4,
 "nbformat_minor": 5
}
