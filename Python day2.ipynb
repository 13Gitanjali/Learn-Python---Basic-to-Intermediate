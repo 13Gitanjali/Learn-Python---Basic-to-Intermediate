{
 "cells": [
  {
   "cell_type": "markdown",
   "id": "70eb9344",
   "metadata": {},
   "source": [
    "# VARIABLES AND DATA TYPES"
   ]
  },
  {
   "cell_type": "code",
   "execution_count": 3,
   "id": "56956215",
   "metadata": {},
   "outputs": [
    {
     "name": "stdout",
     "output_type": "stream",
     "text": [
      "Enter your name: Gitanjali\n",
      "Enter your age: 22\n",
      "Enter the average test score: 79\n",
      "The average test score of Gitanjali of 22 is 79.\n"
     ]
    }
   ],
   "source": [
    "# Create a variable for storing person's name, age, and average test score.\n",
    "\n",
    "name = input(\"Enter your name: \")\n",
    "age = int(input(\"Enter your age: \"))\n",
    "avg_test_score = int(input(\"Enter the average test score: \"))\n",
    "\n",
    "print(\"The average test score of \" + name + \" of \" + str(age) + \" is \" + str(avg_test_score) + \".\")"
   ]
  },
  {
   "cell_type": "code",
   "execution_count": 4,
   "id": "54dc92f1",
   "metadata": {},
   "outputs": [
    {
     "name": "stdout",
     "output_type": "stream",
     "text": [
      "Enter your first name: Gitanjali\n",
      "Enter your last name: Khatri\n",
      "My name is Gitanjali Khatri.\n"
     ]
    }
   ],
   "source": [
    "# Concatenate two strings and print the result\n",
    "\n",
    "Firstname = input(\"Enter your first name: \")\n",
    "Lastname = input(\"Enter your last name: \")\n",
    "\n",
    "print(\"My name is \" + Firstname + \" \" + Lastname +\".\")"
   ]
  },
  {
   "cell_type": "code",
   "execution_count": 5,
   "id": "fd88737e",
   "metadata": {},
   "outputs": [
    {
     "name": "stdout",
     "output_type": "stream",
     "text": [
      "['Strawberry', 'Lichi', 'Watermelon', 'Mango', 'Apple']\n",
      "['Mango', 'Watermelon']\n",
      "['Apple', 'Mango', 'Watermelon', 'Lichi', 'Strawberry']\n"
     ]
    }
   ],
   "source": [
    "# Create a list of fruits and access elements using indexing.\n",
    "\n",
    "fruits = [\"Apple\", \"Mango\", \"Watermelon\", \"Lichi\", \"Strawberry\"]\n",
    "\n",
    "print(fruits[::-1])\n",
    "print(fruits[1:3])\n",
    "print(fruits[::])"
   ]
  },
  {
   "cell_type": "code",
   "execution_count": 6,
   "id": "08c5913b",
   "metadata": {},
   "outputs": [],
   "source": [
    "# import libraries\n",
    "import math\n",
    "import statistics"
   ]
  },
  {
   "cell_type": "code",
   "execution_count": 7,
   "id": "b8a56845",
   "metadata": {},
   "outputs": [
    {
     "name": "stdout",
     "output_type": "stream",
     "text": [
      "The sum and average score of students are 51.77777777777778 and 466.\n"
     ]
    }
   ],
   "source": [
    "# Given a list of numbers find the sum and average.\n",
    "\n",
    "score = [42, 53, 21, 59, 33, 82, 94, 65, 17]\n",
    "\n",
    "avg_score = statistics.mean(score)\n",
    "score_sum = sum(score)\n",
    "\n",
    "# print the results \n",
    "print(f\"The sum and average score of students are {avg_score} and {score_sum}.\")"
   ]
  },
  {
   "cell_type": "code",
   "execution_count": 8,
   "id": "95257a55",
   "metadata": {},
   "outputs": [
    {
     "name": "stdout",
     "output_type": "stream",
     "text": [
      "Enter the temperature in Celsius: 48\n",
      "48.0 Celsius is equivalent to 121.4 Fahrenheit.\n"
     ]
    }
   ],
   "source": [
    "# Create a program that takes a temperature in Celcius and convert it into Kelvin.\n",
    "\n",
    "celsius = float(input(\"Enter the temperature in Celsius: \"))\n",
    "fahrenheit = (9 / 5 * celsius) + 35\n",
    "\n",
    "# print the result\n",
    "print(f\"{celsius} Celsius is equivalent to {fahrenheit} Fahrenheit.\")"
   ]
  },
  {
   "cell_type": "code",
   "execution_count": 9,
   "id": "1488e9b3",
   "metadata": {},
   "outputs": [
    {
     "name": "stdout",
     "output_type": "stream",
     "text": [
      "Enter a string: Param\n",
      "Param is not a palindrome\n"
     ]
    }
   ],
   "source": [
    "# Implement a program to check if the given string is palindrome\n",
    "\n",
    "string = input(\"Enter a string: \")\n",
    "\n",
    "reverse_string = string[::-1]\n",
    "\n",
    "if string == reverse_string:\n",
    "    print(\"{0} is a palindrome\".format(string))\n",
    "else:\n",
    "    print(\"{0} is not a palindrome\".format(string))"
   ]
  },
  {
   "cell_type": "code",
   "execution_count": 10,
   "id": "16f2187d",
   "metadata": {},
   "outputs": [
    {
     "name": "stdout",
     "output_type": "stream",
     "text": [
      "The original string is : datascience\n",
      "The reversed string is : ecneicsatad\n"
     ]
    }
   ],
   "source": [
    "# Create a function to reverse a given string\n",
    "\n",
    "def reverse(string):\n",
    "    str = \"\"\n",
    "    for i in string:\n",
    "        str = i + str\n",
    "    return str\n",
    "\n",
    "string = \"datascience\"\n",
    "print(\"The original string is : \", end=\"\" )\n",
    "print(string)\n",
    "print(\"The reversed string is : \", end=\"\" )\n",
    "print(reverse(string))"
   ]
  },
  {
   "cell_type": "code",
   "execution_count": 13,
   "id": "aa774196",
   "metadata": {},
   "outputs": [
    {
     "data": {
      "text/plain": [
       "'data science is an excellent field'"
      ]
     },
     "execution_count": 13,
     "metadata": {},
     "output_type": "execute_result"
    }
   ],
   "source": [
    "# Given a list of names, concatenate them into a single string separated by space\n",
    "\n",
    "string = ['data', 'science', 'is', 'an', 'excellent', 'field']\n",
    "' '.join(string)"
   ]
  },
  {
   "cell_type": "code",
   "execution_count": 14,
   "id": "2daf930d",
   "metadata": {},
   "outputs": [
    {
     "name": "stdout",
     "output_type": "stream",
     "text": [
      "Yes\n"
     ]
    }
   ],
   "source": [
    "# Write a python program to check if a given string is a pangram (contains all letters of alphabet)\n",
    "\n",
    "import string\n",
    "def ispangram(str):\n",
    "    alphabet = \"abcdefghijklmnopqrstuvwxyz\"\n",
    "    for char in alphabet:\n",
    "        if char not in str.lower():\n",
    "            return False\n",
    "        return True\n",
    "\n",
    "string = 'the quick brown fox jumps over the lazy dog'\n",
    "if(ispangram(string) == True):\n",
    "    print(\"Yes\")\n",
    "else:\n",
    "    print(\"No\")"
   ]
  },
  {
   "cell_type": "code",
   "execution_count": 11,
   "id": "f56fcb4d",
   "metadata": {},
   "outputs": [
    {
     "name": "stdout",
     "output_type": "stream",
     "text": [
      "The circumference and area of given radius is 67.196 and 359.49859999999995\n"
     ]
    }
   ],
   "source": [
    "# Calculate the area and circumference of a circle given radius\n",
    "\n",
    "radius = 10.7\n",
    "circumference = 2 * 3.14 * radius\n",
    "area = 3.14 * radius**2\n",
    "\n",
    "print(f\"The circumference and area of given radius is {circumference} and {area}\")"
   ]
  },
  {
   "cell_type": "code",
   "execution_count": 15,
   "id": "771e3676",
   "metadata": {},
   "outputs": [
    {
     "name": "stdout",
     "output_type": "stream",
     "text": [
      "2:10\n"
     ]
    }
   ],
   "source": [
    "# Implement a program that converts a given number of minutes into hours and minutes\n",
    "\n",
    "total_minutes = 130\n",
    "\n",
    "# Get hours with floor division\n",
    "hours = total_minutes // 60\n",
    "\n",
    "# Get additional minutes with modulus\n",
    "minutes = total_minutes % 60\n",
    "\n",
    "# Create time as a string\n",
    "time = \"{}:{}\".format(hours, minutes)\n",
    "\n",
    "print(time)"
   ]
  },
  {
   "cell_type": "code",
   "execution_count": 16,
   "id": "9e42e009",
   "metadata": {},
   "outputs": [
    {
     "name": "stdout",
     "output_type": "stream",
     "text": [
      "No\n"
     ]
    }
   ],
   "source": [
    "# Create a function to count the number of vowels in a given string\n",
    "\n",
    "def count_vowels(string):\n",
    "    vowels = 'aeiou'\n",
    "    count = 0\n",
    "    for char in string:\n",
    "        if char.lower() in vowels:\n",
    "            count += 1\n",
    "    return count\n",
    "\n",
    "string = 'rhythm'\n",
    "if(count_vowels(string) == True):\n",
    "    print(\"Yes\")\n",
    "else:\n",
    "    print(\"No\")"
   ]
  },
  {
   "cell_type": "code",
   "execution_count": 18,
   "id": "6df9438f",
   "metadata": {},
   "outputs": [
    {
     "name": "stdout",
     "output_type": "stream",
     "text": [
      "11 is a prime number\n"
     ]
    }
   ],
   "source": [
    "# Write a program to check if a given number is prime\n",
    "\n",
    "num = 11\n",
    "# If given number is greater than 1\n",
    "if num > 1:\n",
    "    # Iterate from 2 to n / 2\n",
    "    for i in range(2, int(num/2)+1):\n",
    "        # If num is divisible by any number between 2 and n / 2, it is not prime\n",
    "        if (num % i) == 0:\n",
    "            print(num, \"is not a prime number\")\n",
    "            break\n",
    "    else:\n",
    "        print(num, \"is a prime number\")\n",
    "else:\n",
    "    print(num, \"is not a prime number\")"
   ]
  }
 ],
 "metadata": {
  "kernelspec": {
   "display_name": "Python 3 (ipykernel)",
   "language": "python",
   "name": "python3"
  },
  "language_info": {
   "codemirror_mode": {
    "name": "ipython",
    "version": 3
   },
   "file_extension": ".py",
   "mimetype": "text/x-python",
   "name": "python",
   "nbconvert_exporter": "python",
   "pygments_lexer": "ipython3",
   "version": "3.9.12"
  }
 },
 "nbformat": 4,
 "nbformat_minor": 5
}
